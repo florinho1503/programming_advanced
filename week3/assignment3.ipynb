{
 "cells": [
  {
   "cell_type": "markdown",
   "metadata": {
    "nbgrader": {
     "grade": false,
     "grade_id": "cell-47fb62c0cb045bbe",
     "locked": true,
     "schema_version": 1,
     "solution": false
    }
   },
   "source": [
    "# Assignment\n",
    "\n",
    "We will work with a dataset of movies from IMDB included with the assignment; source: https://www.kaggle.com/stefanoleone992/imdb-extensive-dataset?select=IMDb+movies.csv\n",
    "\n",
    "Before you begin, run the code in this notebook to see the output. Go to the Cell menu, and press Run All."
   ]
  },
  {
   "cell_type": "code",
   "execution_count": 1,
   "metadata": {
    "nbgrader": {
     "grade": false,
     "grade_id": "cell-27121c498ff67f14",
     "locked": true,
     "schema_version": 1,
     "solution": false
    }
   },
   "outputs": [
    {
     "data": {
      "text/plain": [
       "(85785, 22)"
      ]
     },
     "execution_count": 1,
     "metadata": {},
     "output_type": "execute_result"
    }
   ],
   "source": [
    "import pandas as pd\n",
    "import seaborn as sns\n",
    "df = pd.read_csv('IMDb movies.csv', low_memory=False)\n",
    "df.year = pd.to_numeric(df.year, errors='coerce')  # replace some invalid year values with 'NaN'\n",
    "df = df.dropna(subset=['year', 'actors'])  # drop rows with missing values in this column\n",
    "df.shape"
   ]
  },
  {
   "cell_type": "code",
   "execution_count": 2,
   "metadata": {},
   "outputs": [
    {
     "name": "stdout",
     "output_type": "stream",
     "text": [
      "<class 'pandas.core.frame.DataFrame'>\n",
      "Int64Index: 85785 entries, 0 to 85854\n",
      "Data columns (total 22 columns):\n",
      " #   Column                 Non-Null Count  Dtype  \n",
      "---  ------                 --------------  -----  \n",
      " 0   imdb_title_id          85785 non-null  object \n",
      " 1   title                  85785 non-null  object \n",
      " 2   original_title         85785 non-null  object \n",
      " 3   year                   85785 non-null  float64\n",
      " 4   date_published         85785 non-null  object \n",
      " 5   genre                  85785 non-null  object \n",
      " 6   duration               85785 non-null  int64  \n",
      " 7   country                85724 non-null  object \n",
      " 8   language               84960 non-null  object \n",
      " 9   director               85712 non-null  object \n",
      " 10  writer                 84249 non-null  object \n",
      " 11  production_company     81360 non-null  object \n",
      " 12  actors                 85785 non-null  object \n",
      " 13  description            83675 non-null  object \n",
      " 14  avg_vote               85785 non-null  float64\n",
      " 15  votes                  85785 non-null  int64  \n",
      " 16  budget                 23703 non-null  object \n",
      " 17  usa_gross_income       15321 non-null  object \n",
      " 18  worlwide_gross_income  30992 non-null  object \n",
      " 19  metascore              13299 non-null  float64\n",
      " 20  reviews_from_users     78206 non-null  float64\n",
      " 21  reviews_from_critics   74010 non-null  float64\n",
      "dtypes: float64(5), int64(2), object(15)\n",
      "memory usage: 15.1+ MB\n"
     ]
    }
   ],
   "source": [
    "df.info()"
   ]
  },
  {
   "cell_type": "code",
   "execution_count": 3,
   "metadata": {
    "nbgrader": {
     "grade": false,
     "grade_id": "cell-7382b3537acda224",
     "locked": true,
     "schema_version": 1,
     "solution": false
    }
   },
   "outputs": [
    {
     "data": {
      "text/html": [
       "<div>\n",
       "<style scoped>\n",
       "    .dataframe tbody tr th:only-of-type {\n",
       "        vertical-align: middle;\n",
       "    }\n",
       "\n",
       "    .dataframe tbody tr th {\n",
       "        vertical-align: top;\n",
       "    }\n",
       "\n",
       "    .dataframe thead th {\n",
       "        text-align: right;\n",
       "    }\n",
       "</style>\n",
       "<table border=\"1\" class=\"dataframe\">\n",
       "  <thead>\n",
       "    <tr style=\"text-align: right;\">\n",
       "      <th></th>\n",
       "      <th>year</th>\n",
       "      <th>duration</th>\n",
       "      <th>avg_vote</th>\n",
       "      <th>votes</th>\n",
       "      <th>metascore</th>\n",
       "      <th>reviews_from_users</th>\n",
       "      <th>reviews_from_critics</th>\n",
       "    </tr>\n",
       "  </thead>\n",
       "  <tbody>\n",
       "    <tr>\n",
       "      <th>count</th>\n",
       "      <td>85785.000000</td>\n",
       "      <td>85785.000000</td>\n",
       "      <td>85785.000000</td>\n",
       "      <td>8.578500e+04</td>\n",
       "      <td>13299.000000</td>\n",
       "      <td>78206.000000</td>\n",
       "      <td>74010.000000</td>\n",
       "    </tr>\n",
       "    <tr>\n",
       "      <th>mean</th>\n",
       "      <td>1993.491450</td>\n",
       "      <td>100.363700</td>\n",
       "      <td>5.898293</td>\n",
       "      <td>9.500494e+03</td>\n",
       "      <td>55.887962</td>\n",
       "      <td>46.062540</td>\n",
       "      <td>27.489447</td>\n",
       "    </tr>\n",
       "    <tr>\n",
       "      <th>std</th>\n",
       "      <td>24.216793</td>\n",
       "      <td>22.546805</td>\n",
       "      <td>1.234680</td>\n",
       "      <td>5.359558e+04</td>\n",
       "      <td>17.782702</td>\n",
       "      <td>178.567425</td>\n",
       "      <td>58.354913</td>\n",
       "    </tr>\n",
       "    <tr>\n",
       "      <th>min</th>\n",
       "      <td>1894.000000</td>\n",
       "      <td>41.000000</td>\n",
       "      <td>1.000000</td>\n",
       "      <td>9.900000e+01</td>\n",
       "      <td>1.000000</td>\n",
       "      <td>1.000000</td>\n",
       "      <td>1.000000</td>\n",
       "    </tr>\n",
       "    <tr>\n",
       "      <th>25%</th>\n",
       "      <td>1979.000000</td>\n",
       "      <td>88.000000</td>\n",
       "      <td>5.200000</td>\n",
       "      <td>2.050000e+02</td>\n",
       "      <td>43.000000</td>\n",
       "      <td>4.000000</td>\n",
       "      <td>3.000000</td>\n",
       "    </tr>\n",
       "    <tr>\n",
       "      <th>50%</th>\n",
       "      <td>2002.000000</td>\n",
       "      <td>96.000000</td>\n",
       "      <td>6.100000</td>\n",
       "      <td>4.850000e+02</td>\n",
       "      <td>57.000000</td>\n",
       "      <td>9.000000</td>\n",
       "      <td>8.000000</td>\n",
       "    </tr>\n",
       "    <tr>\n",
       "      <th>75%</th>\n",
       "      <td>2013.000000</td>\n",
       "      <td>108.000000</td>\n",
       "      <td>6.800000</td>\n",
       "      <td>1.769000e+03</td>\n",
       "      <td>69.000000</td>\n",
       "      <td>27.000000</td>\n",
       "      <td>23.750000</td>\n",
       "    </tr>\n",
       "    <tr>\n",
       "      <th>max</th>\n",
       "      <td>2020.000000</td>\n",
       "      <td>808.000000</td>\n",
       "      <td>9.900000</td>\n",
       "      <td>2.278845e+06</td>\n",
       "      <td>100.000000</td>\n",
       "      <td>10472.000000</td>\n",
       "      <td>999.000000</td>\n",
       "    </tr>\n",
       "  </tbody>\n",
       "</table>\n",
       "</div>"
      ],
      "text/plain": [
       "               year      duration      avg_vote         votes     metascore  \\\n",
       "count  85785.000000  85785.000000  85785.000000  8.578500e+04  13299.000000   \n",
       "mean    1993.491450    100.363700      5.898293  9.500494e+03     55.887962   \n",
       "std       24.216793     22.546805      1.234680  5.359558e+04     17.782702   \n",
       "min     1894.000000     41.000000      1.000000  9.900000e+01      1.000000   \n",
       "25%     1979.000000     88.000000      5.200000  2.050000e+02     43.000000   \n",
       "50%     2002.000000     96.000000      6.100000  4.850000e+02     57.000000   \n",
       "75%     2013.000000    108.000000      6.800000  1.769000e+03     69.000000   \n",
       "max     2020.000000    808.000000      9.900000  2.278845e+06    100.000000   \n",
       "\n",
       "       reviews_from_users  reviews_from_critics  \n",
       "count        78206.000000          74010.000000  \n",
       "mean            46.062540             27.489447  \n",
       "std            178.567425             58.354913  \n",
       "min              1.000000              1.000000  \n",
       "25%              4.000000              3.000000  \n",
       "50%              9.000000              8.000000  \n",
       "75%             27.000000             23.750000  \n",
       "max          10472.000000            999.000000  "
      ]
     },
     "execution_count": 3,
     "metadata": {},
     "output_type": "execute_result"
    }
   ],
   "source": [
    "df.describe()"
   ]
  },
  {
   "cell_type": "code",
   "execution_count": 4,
   "metadata": {},
   "outputs": [
    {
     "data": {
      "text/html": [
       "<div>\n",
       "<style scoped>\n",
       "    .dataframe tbody tr th:only-of-type {\n",
       "        vertical-align: middle;\n",
       "    }\n",
       "\n",
       "    .dataframe tbody tr th {\n",
       "        vertical-align: top;\n",
       "    }\n",
       "\n",
       "    .dataframe thead th {\n",
       "        text-align: right;\n",
       "    }\n",
       "</style>\n",
       "<table border=\"1\" class=\"dataframe\">\n",
       "  <thead>\n",
       "    <tr style=\"text-align: right;\">\n",
       "      <th></th>\n",
       "      <th>imdb_title_id</th>\n",
       "      <th>title</th>\n",
       "      <th>original_title</th>\n",
       "      <th>year</th>\n",
       "      <th>date_published</th>\n",
       "      <th>genre</th>\n",
       "      <th>duration</th>\n",
       "      <th>country</th>\n",
       "      <th>language</th>\n",
       "      <th>director</th>\n",
       "      <th>...</th>\n",
       "      <th>actors</th>\n",
       "      <th>description</th>\n",
       "      <th>avg_vote</th>\n",
       "      <th>votes</th>\n",
       "      <th>budget</th>\n",
       "      <th>usa_gross_income</th>\n",
       "      <th>worlwide_gross_income</th>\n",
       "      <th>metascore</th>\n",
       "      <th>reviews_from_users</th>\n",
       "      <th>reviews_from_critics</th>\n",
       "    </tr>\n",
       "  </thead>\n",
       "  <tbody>\n",
       "    <tr>\n",
       "      <th>0</th>\n",
       "      <td>tt0000009</td>\n",
       "      <td>Miss Jerry</td>\n",
       "      <td>Miss Jerry</td>\n",
       "      <td>1894.0</td>\n",
       "      <td>1894-10-09</td>\n",
       "      <td>Romance</td>\n",
       "      <td>45</td>\n",
       "      <td>USA</td>\n",
       "      <td>None</td>\n",
       "      <td>Alexander Black</td>\n",
       "      <td>...</td>\n",
       "      <td>Blanche Bayliss, William Courtenay, Chauncey D...</td>\n",
       "      <td>The adventures of a female reporter in the 1890s.</td>\n",
       "      <td>5.9</td>\n",
       "      <td>154</td>\n",
       "      <td>NaN</td>\n",
       "      <td>NaN</td>\n",
       "      <td>NaN</td>\n",
       "      <td>NaN</td>\n",
       "      <td>1.0</td>\n",
       "      <td>2.0</td>\n",
       "    </tr>\n",
       "    <tr>\n",
       "      <th>1</th>\n",
       "      <td>tt0000574</td>\n",
       "      <td>The Story of the Kelly Gang</td>\n",
       "      <td>The Story of the Kelly Gang</td>\n",
       "      <td>1906.0</td>\n",
       "      <td>1906-12-26</td>\n",
       "      <td>Biography, Crime, Drama</td>\n",
       "      <td>70</td>\n",
       "      <td>Australia</td>\n",
       "      <td>None</td>\n",
       "      <td>Charles Tait</td>\n",
       "      <td>...</td>\n",
       "      <td>Elizabeth Tait, John Tait, Norman Campbell, Be...</td>\n",
       "      <td>True story of notorious Australian outlaw Ned ...</td>\n",
       "      <td>6.1</td>\n",
       "      <td>589</td>\n",
       "      <td>$ 2250</td>\n",
       "      <td>NaN</td>\n",
       "      <td>NaN</td>\n",
       "      <td>NaN</td>\n",
       "      <td>7.0</td>\n",
       "      <td>7.0</td>\n",
       "    </tr>\n",
       "    <tr>\n",
       "      <th>2</th>\n",
       "      <td>tt0001892</td>\n",
       "      <td>Den sorte drøm</td>\n",
       "      <td>Den sorte drøm</td>\n",
       "      <td>1911.0</td>\n",
       "      <td>1911-08-19</td>\n",
       "      <td>Drama</td>\n",
       "      <td>53</td>\n",
       "      <td>Germany, Denmark</td>\n",
       "      <td>NaN</td>\n",
       "      <td>Urban Gad</td>\n",
       "      <td>...</td>\n",
       "      <td>Asta Nielsen, Valdemar Psilander, Gunnar Helse...</td>\n",
       "      <td>Two men of high rank are both wooing the beaut...</td>\n",
       "      <td>5.8</td>\n",
       "      <td>188</td>\n",
       "      <td>NaN</td>\n",
       "      <td>NaN</td>\n",
       "      <td>NaN</td>\n",
       "      <td>NaN</td>\n",
       "      <td>5.0</td>\n",
       "      <td>2.0</td>\n",
       "    </tr>\n",
       "    <tr>\n",
       "      <th>3</th>\n",
       "      <td>tt0002101</td>\n",
       "      <td>Cleopatra</td>\n",
       "      <td>Cleopatra</td>\n",
       "      <td>1912.0</td>\n",
       "      <td>1912-11-13</td>\n",
       "      <td>Drama, History</td>\n",
       "      <td>100</td>\n",
       "      <td>USA</td>\n",
       "      <td>English</td>\n",
       "      <td>Charles L. Gaskill</td>\n",
       "      <td>...</td>\n",
       "      <td>Helen Gardner, Pearl Sindelar, Miss Fielding, ...</td>\n",
       "      <td>The fabled queen of Egypt's affair with Roman ...</td>\n",
       "      <td>5.2</td>\n",
       "      <td>446</td>\n",
       "      <td>$ 45000</td>\n",
       "      <td>NaN</td>\n",
       "      <td>NaN</td>\n",
       "      <td>NaN</td>\n",
       "      <td>25.0</td>\n",
       "      <td>3.0</td>\n",
       "    </tr>\n",
       "    <tr>\n",
       "      <th>4</th>\n",
       "      <td>tt0002130</td>\n",
       "      <td>L'Inferno</td>\n",
       "      <td>L'Inferno</td>\n",
       "      <td>1911.0</td>\n",
       "      <td>1911-03-06</td>\n",
       "      <td>Adventure, Drama, Fantasy</td>\n",
       "      <td>68</td>\n",
       "      <td>Italy</td>\n",
       "      <td>Italian</td>\n",
       "      <td>Francesco Bertolini, Adolfo Padovan</td>\n",
       "      <td>...</td>\n",
       "      <td>Salvatore Papa, Arturo Pirovano, Giuseppe de L...</td>\n",
       "      <td>Loosely adapted from Dante's Divine Comedy and...</td>\n",
       "      <td>7.0</td>\n",
       "      <td>2237</td>\n",
       "      <td>NaN</td>\n",
       "      <td>NaN</td>\n",
       "      <td>NaN</td>\n",
       "      <td>NaN</td>\n",
       "      <td>31.0</td>\n",
       "      <td>14.0</td>\n",
       "    </tr>\n",
       "  </tbody>\n",
       "</table>\n",
       "<p>5 rows × 22 columns</p>\n",
       "</div>"
      ],
      "text/plain": [
       "  imdb_title_id                        title               original_title  \\\n",
       "0     tt0000009                   Miss Jerry                   Miss Jerry   \n",
       "1     tt0000574  The Story of the Kelly Gang  The Story of the Kelly Gang   \n",
       "2     tt0001892               Den sorte drøm               Den sorte drøm   \n",
       "3     tt0002101                    Cleopatra                    Cleopatra   \n",
       "4     tt0002130                    L'Inferno                    L'Inferno   \n",
       "\n",
       "     year date_published                      genre  duration  \\\n",
       "0  1894.0     1894-10-09                    Romance        45   \n",
       "1  1906.0     1906-12-26    Biography, Crime, Drama        70   \n",
       "2  1911.0     1911-08-19                      Drama        53   \n",
       "3  1912.0     1912-11-13             Drama, History       100   \n",
       "4  1911.0     1911-03-06  Adventure, Drama, Fantasy        68   \n",
       "\n",
       "            country language                             director  ...  \\\n",
       "0               USA     None                      Alexander Black  ...   \n",
       "1         Australia     None                         Charles Tait  ...   \n",
       "2  Germany, Denmark      NaN                            Urban Gad  ...   \n",
       "3               USA  English                   Charles L. Gaskill  ...   \n",
       "4             Italy  Italian  Francesco Bertolini, Adolfo Padovan  ...   \n",
       "\n",
       "                                              actors  \\\n",
       "0  Blanche Bayliss, William Courtenay, Chauncey D...   \n",
       "1  Elizabeth Tait, John Tait, Norman Campbell, Be...   \n",
       "2  Asta Nielsen, Valdemar Psilander, Gunnar Helse...   \n",
       "3  Helen Gardner, Pearl Sindelar, Miss Fielding, ...   \n",
       "4  Salvatore Papa, Arturo Pirovano, Giuseppe de L...   \n",
       "\n",
       "                                         description avg_vote votes   budget  \\\n",
       "0  The adventures of a female reporter in the 1890s.      5.9   154      NaN   \n",
       "1  True story of notorious Australian outlaw Ned ...      6.1   589   $ 2250   \n",
       "2  Two men of high rank are both wooing the beaut...      5.8   188      NaN   \n",
       "3  The fabled queen of Egypt's affair with Roman ...      5.2   446  $ 45000   \n",
       "4  Loosely adapted from Dante's Divine Comedy and...      7.0  2237      NaN   \n",
       "\n",
       "   usa_gross_income worlwide_gross_income metascore reviews_from_users  \\\n",
       "0               NaN                   NaN       NaN                1.0   \n",
       "1               NaN                   NaN       NaN                7.0   \n",
       "2               NaN                   NaN       NaN                5.0   \n",
       "3               NaN                   NaN       NaN               25.0   \n",
       "4               NaN                   NaN       NaN               31.0   \n",
       "\n",
       "   reviews_from_critics  \n",
       "0                   2.0  \n",
       "1                   7.0  \n",
       "2                   2.0  \n",
       "3                   3.0  \n",
       "4                  14.0  \n",
       "\n",
       "[5 rows x 22 columns]"
      ]
     },
     "execution_count": 4,
     "metadata": {},
     "output_type": "execute_result"
    }
   ],
   "source": [
    "df.head()"
   ]
  },
  {
   "cell_type": "code",
   "execution_count": 5,
   "metadata": {},
   "outputs": [
    {
     "data": {
      "text/plain": [
       "Index(['imdb_title_id', 'title', 'original_title', 'year', 'date_published',\n",
       "       'genre', 'duration', 'country', 'language', 'director', 'writer',\n",
       "       'production_company', 'actors', 'description', 'avg_vote', 'votes',\n",
       "       'budget', 'usa_gross_income', 'worlwide_gross_income', 'metascore',\n",
       "       'reviews_from_users', 'reviews_from_critics'],\n",
       "      dtype='object')"
      ]
     },
     "execution_count": 5,
     "metadata": {},
     "output_type": "execute_result"
    }
   ],
   "source": [
    "df.columns"
   ]
  },
  {
   "cell_type": "markdown",
   "metadata": {
    "nbgrader": {
     "grade": false,
     "grade_id": "cell-211e24895bfc0682",
     "locked": true,
     "schema_version": 1,
     "solution": false
    }
   },
   "source": [
    "# Questions\n",
    "\n",
    "For each question below, fill in the code to compute the answer. Each cell contains a template with the expected variable name and code that produces a wrong answer, but with the right type and format. Don't change the variable name or the type. Answers will be graded with automatic tests where possible."
   ]
  },
  {
   "cell_type": "code",
   "execution_count": 6,
   "metadata": {
    "nbgrader": {
     "grade": false,
     "grade_id": "cell-17902f92e4b81b52",
     "locked": true,
     "schema_version": 1,
     "solution": false
    }
   },
   "outputs": [],
   "source": [
    "# Example (will not be graded):\n",
    "# 0. What is the longest movie?\n",
    "# Template:\n",
    "example = df.head(1)\n",
    "# Replace with your code:\n",
    "example = df.nlargest(1, 'duration')"
   ]
  },
  {
   "cell_type": "code",
   "execution_count": 7,
   "metadata": {
    "nbgrader": {
     "grade": false,
     "grade_id": "cell-c56b66b40feb0a37",
     "locked": true,
     "schema_version": 1,
     "solution": false
    }
   },
   "outputs": [
    {
     "data": {
      "text/html": [
       "<div>\n",
       "<style scoped>\n",
       "    .dataframe tbody tr th:only-of-type {\n",
       "        vertical-align: middle;\n",
       "    }\n",
       "\n",
       "    .dataframe tbody tr th {\n",
       "        vertical-align: top;\n",
       "    }\n",
       "\n",
       "    .dataframe thead th {\n",
       "        text-align: right;\n",
       "    }\n",
       "</style>\n",
       "<table border=\"1\" class=\"dataframe\">\n",
       "  <thead>\n",
       "    <tr style=\"text-align: right;\">\n",
       "      <th></th>\n",
       "      <th>imdb_title_id</th>\n",
       "      <th>title</th>\n",
       "      <th>original_title</th>\n",
       "      <th>year</th>\n",
       "      <th>date_published</th>\n",
       "      <th>genre</th>\n",
       "      <th>duration</th>\n",
       "      <th>country</th>\n",
       "      <th>language</th>\n",
       "      <th>director</th>\n",
       "      <th>...</th>\n",
       "      <th>actors</th>\n",
       "      <th>description</th>\n",
       "      <th>avg_vote</th>\n",
       "      <th>votes</th>\n",
       "      <th>budget</th>\n",
       "      <th>usa_gross_income</th>\n",
       "      <th>worlwide_gross_income</th>\n",
       "      <th>metascore</th>\n",
       "      <th>reviews_from_users</th>\n",
       "      <th>reviews_from_critics</th>\n",
       "    </tr>\n",
       "  </thead>\n",
       "  <tbody>\n",
       "    <tr>\n",
       "      <th>85057</th>\n",
       "      <td>tt9047474</td>\n",
       "      <td>La flor</td>\n",
       "      <td>La flor</td>\n",
       "      <td>2016.0</td>\n",
       "      <td>2018-09-21</td>\n",
       "      <td>Drama, Fantasy, Musical</td>\n",
       "      <td>808</td>\n",
       "      <td>Argentina</td>\n",
       "      <td>Catalan, Spanish, French, English, Russian, Ge...</td>\n",
       "      <td>Mariano Llinás</td>\n",
       "      <td>...</td>\n",
       "      <td>Elisa Carricajo, Valeria Correa, Pilar Gamboa,...</td>\n",
       "      <td>A film in six episodes, connected by the same ...</td>\n",
       "      <td>7.7</td>\n",
       "      <td>473</td>\n",
       "      <td>NaN</td>\n",
       "      <td>$ 4032</td>\n",
       "      <td>$ 4032</td>\n",
       "      <td>77.0</td>\n",
       "      <td>5.0</td>\n",
       "      <td>23.0</td>\n",
       "    </tr>\n",
       "  </tbody>\n",
       "</table>\n",
       "<p>1 rows × 22 columns</p>\n",
       "</div>"
      ],
      "text/plain": [
       "      imdb_title_id    title original_title    year date_published  \\\n",
       "85057     tt9047474  La flor        La flor  2016.0     2018-09-21   \n",
       "\n",
       "                         genre  duration    country  \\\n",
       "85057  Drama, Fantasy, Musical       808  Argentina   \n",
       "\n",
       "                                                language        director  ...  \\\n",
       "85057  Catalan, Spanish, French, English, Russian, Ge...  Mariano Llinás  ...   \n",
       "\n",
       "                                                  actors  \\\n",
       "85057  Elisa Carricajo, Valeria Correa, Pilar Gamboa,...   \n",
       "\n",
       "                                             description avg_vote votes  \\\n",
       "85057  A film in six episodes, connected by the same ...      7.7   473   \n",
       "\n",
       "       budget  usa_gross_income worlwide_gross_income metascore  \\\n",
       "85057     NaN            $ 4032                $ 4032      77.0   \n",
       "\n",
       "      reviews_from_users  reviews_from_critics  \n",
       "85057                5.0                  23.0  \n",
       "\n",
       "[1 rows x 22 columns]"
      ]
     },
     "execution_count": 7,
     "metadata": {},
     "output_type": "execute_result"
    }
   ],
   "source": [
    "# To show the result:\n",
    "example"
   ]
  },
  {
   "cell_type": "markdown",
   "metadata": {
    "nbgrader": {
     "grade": false,
     "grade_id": "cell-b68b13f36d487d42",
     "locked": true,
     "schema_version": 1,
     "solution": false
    }
   },
   "source": [
    "1. What are the top 5 movies with the highest value for \"votes\"?"
   ]
  },
  {
   "cell_type": "code",
   "execution_count": 8,
   "metadata": {
    "nbgrader": {
     "grade": false,
     "grade_id": "cell-14cce761879dee97",
     "locked": false,
     "schema_version": 1,
     "solution": true
    }
   },
   "outputs": [
    {
     "name": "stdout",
     "output_type": "stream",
     "text": [
      "      imdb_title_id                 title            original_title    year  \\\n",
      "28453     tt0111161  Le ali della libertà  The Shawshank Redemption  1994.0   \n",
      "48078     tt0468569   Il cavaliere oscuro           The Dark Knight  2008.0   \n",
      "57475     tt1375666             Inception                 Inception  2010.0   \n",
      "32487     tt0137523            Fight Club                Fight Club  1999.0   \n",
      "28381     tt0110912          Pulp Fiction              Pulp Fiction  1994.0   \n",
      "\n",
      "      date_published                      genre  duration       country  \\\n",
      "28453     1995-02-10                      Drama       142           USA   \n",
      "48078     2008-07-23       Action, Crime, Drama       152       USA, UK   \n",
      "57475     2010-09-24  Action, Adventure, Sci-Fi       148       USA, UK   \n",
      "32487     1999-10-29                      Drama       139  USA, Germany   \n",
      "28381     1994-10-28               Crime, Drama       154           USA   \n",
      "\n",
      "                        language           director  ...  \\\n",
      "28453                    English     Frank Darabont  ...   \n",
      "48078          English, Mandarin  Christopher Nolan  ...   \n",
      "57475  English, Japanese, French  Christopher Nolan  ...   \n",
      "32487                    English      David Fincher  ...   \n",
      "28381   English, Spanish, French  Quentin Tarantino  ...   \n",
      "\n",
      "                                                  actors  \\\n",
      "28453  Tim Robbins, Morgan Freeman, Bob Gunton, Willi...   \n",
      "48078  Christian Bale, Heath Ledger, Aaron Eckhart, M...   \n",
      "57475  Leonardo DiCaprio, Joseph Gordon-Levitt, Ellen...   \n",
      "32487  Edward Norton, Brad Pitt, Meat Loaf, Zach Gren...   \n",
      "28381  Tim Roth, Amanda Plummer, Laura Lovelace, John...   \n",
      "\n",
      "                                             description avg_vote    votes  \\\n",
      "28453  Two imprisoned men bond over a number of years...      9.3  2278845   \n",
      "48078  When the menace known as the Joker wreaks havo...      9.0  2241615   \n",
      "57475  A thief who steals corporate secrets through t...      8.8  2002816   \n",
      "32487  An insomniac office worker and a devil-may-car...      8.8  1807440   \n",
      "28381  The lives of two mob hitmen, a boxer, a gangst...      8.9  1780147   \n",
      "\n",
      "            budget  usa_gross_income worlwide_gross_income metascore  \\\n",
      "28453   $ 25000000        $ 28699976            $ 28815245      80.0   \n",
      "48078  $ 185000000       $ 535234033          $ 1005455211      84.0   \n",
      "57475  $ 160000000       $ 292576195           $ 869784991      74.0   \n",
      "32487   $ 63000000        $ 37030102           $ 101218804      66.0   \n",
      "28381    $ 8000000       $ 107928762           $ 222831817      94.0   \n",
      "\n",
      "      reviews_from_users  reviews_from_critics  \n",
      "28453             8232.0                 164.0  \n",
      "48078             6938.0                 423.0  \n",
      "57475             3927.0                 473.0  \n",
      "32487             3758.0                 370.0  \n",
      "28381             3058.0                 289.0  \n",
      "\n",
      "[5 rows x 22 columns]\n"
     ]
    }
   ],
   "source": [
    "#mostratings = df.head(5)\n",
    "sorted_df = df.sort_values(by='votes', ascending=False)\n",
    "mostratings = sorted_df.head(5)\n",
    "print(mostratings)"
   ]
  },
  {
   "cell_type": "markdown",
   "metadata": {
    "nbgrader": {
     "grade": false,
     "grade_id": "cell-7ceaf7b63b3e693a",
     "locked": true,
     "schema_version": 1,
     "solution": false
    }
   },
   "source": [
    "2. In which years was 'David Fincher' a director of movies?"
   ]
  },
  {
   "cell_type": "code",
   "execution_count": 9,
   "metadata": {
    "nbgrader": {
     "grade": false,
     "grade_id": "cell-3790f3c7f2f507b5",
     "locked": false,
     "schema_version": 1,
     "solution": true
    }
   },
   "outputs": [
    {
     "name": "stdout",
     "output_type": "stream",
     "text": [
      "[1992. 1995. 1997. 1999. 2002. 2008. 2007. 2010. 2011. 2014.]\n"
     ]
    }
   ],
   "source": [
    "# fincheryears = df['year']\n",
    "\n",
    "fincher_movies = df[df['director'] == 'David Fincher']\n",
    "\n",
    "fincheryears = fincher_movies['year'].unique()\n",
    "\n",
    "\n",
    "# Display the sorted unique years\n",
    "print(fincheryears)\n",
    "\n"
   ]
  },
  {
   "cell_type": "markdown",
   "metadata": {
    "nbgrader": {
     "grade": false,
     "grade_id": "cell-e8ec2c44454b5f79",
     "locked": true,
     "schema_version": 1,
     "solution": false
    }
   },
   "source": [
    "3. What is the movie with the lowest `metascore` from the 2000s? (from 2000 up to and including 2009, 2010 does not count)"
   ]
  },
  {
   "cell_type": "code",
   "execution_count": 10,
   "metadata": {
    "nbgrader": {
     "grade": false,
     "grade_id": "cell-791fbf691ed15ac1",
     "locked": false,
     "schema_version": 1,
     "solution": true
    }
   },
   "outputs": [
    {
     "name": "stdout",
     "output_type": "stream",
     "text": [
      "      imdb_title_id               title      original_title    year  \\\n",
      "42198     tt0327153  The Singing Forest  The Singing Forest  2003.0   \n",
      "\n",
      "      date_published                    genre  duration country language  \\\n",
      "42198     2003-10-12  Drama, Fantasy, Romance        72     USA  English   \n",
      "\n",
      "          director  ...                                             actors  \\\n",
      "42198  Jorge Ameer  ...  Jon Sherrin, Erin Leigh Price, Eric Morris, Da...   \n",
      "\n",
      "                                             description avg_vote votes  \\\n",
      "42198  Two lovers are killed during the Holocaust. On...      1.8   517   \n",
      "\n",
      "       budget  usa_gross_income worlwide_gross_income metascore  \\\n",
      "42198     NaN               NaN                   NaN       1.0   \n",
      "\n",
      "      reviews_from_users  reviews_from_critics  \n",
      "42198               36.0                   4.0  \n",
      "\n",
      "[1 rows x 22 columns]\n"
     ]
    }
   ],
   "source": [
    "movies_2000s = df[(df['year'] >= 2000) & (df['year'] <= 2009)]\n",
    "lowest_metascore_movie = movies_2000s.sort_values(by='metascore', ascending=True).head(1)\n",
    "print(lowest_metascore_movie)\n",
    "\n"
   ]
  },
  {
   "cell_type": "markdown",
   "metadata": {
    "nbgrader": {
     "grade": false,
     "grade_id": "cell-0b2432c9cc01626f",
     "locked": true,
     "schema_version": 1,
     "solution": false
    }
   },
   "source": [
    "4. What is the best rated (`avg_vote`) movie with Nicolas Cage? (NB: the actors are given as a string with a comma-separated list, you have to check whether Nicolas Cage is in that string)"
   ]
  },
  {
   "cell_type": "code",
   "execution_count": 11,
   "metadata": {
    "nbgrader": {
     "grade": false,
     "grade_id": "cell-c14098292691a01d",
     "locked": false,
     "schema_version": 1,
     "solution": true
    }
   },
   "outputs": [
    {
     "name": "stdout",
     "output_type": "stream",
     "text": [
      "imdb_title_id                                                    tt4633694\n",
      "title                                        Spider-Man: Un nuovo universo\n",
      "original_title                           Spider-Man: Into the Spider-Verse\n",
      "year                                                                2018.0\n",
      "date_published                                                  2018-12-25\n",
      "genre                                         Animation, Action, Adventure\n",
      "duration                                                               117\n",
      "country                                                                USA\n",
      "language                                                  English, Spanish\n",
      "director                                     Bob Persichetti, Peter Ramsey\n",
      "writer                                           Phil Lord, Rodney Rothman\n",
      "production_company                       Sony Pictures Entertainment (SPE)\n",
      "actors                   Shameik Moore, Jake Johnson, Hailee Steinfeld,...\n",
      "description              Teen Miles Morales becomes the Spider-Man of h...\n",
      "avg_vote                                                               8.4\n",
      "votes                                                               335892\n",
      "budget                                                          $ 90000000\n",
      "usa_gross_income                                               $ 190241310\n",
      "worlwide_gross_income                                          $ 375540831\n",
      "metascore                                                             87.0\n",
      "reviews_from_users                                                  1828.0\n",
      "reviews_from_critics                                                 397.0\n",
      "Name: 75249, dtype: object\n"
     ]
    }
   ],
   "source": [
    "nicolas_cage_movies = df[df['actors'].str.contains(\"Nicolas Cage\", na=False)]\n",
    "highest_rated_movie = nicolas_cage_movies.loc[nicolas_cage_movies['avg_vote'].idxmax()]\n",
    "print(highest_rated_movie)\n",
    "\n"
   ]
  },
  {
   "cell_type": "markdown",
   "metadata": {
    "nbgrader": {
     "grade": false,
     "grade_id": "cell-c026e8cfcf936cbc",
     "locked": true,
     "schema_version": 1,
     "solution": false
    }
   },
   "source": [
    "5. What is the average (mean) US income (`usa_gross_income`) of movies directed by Steven Spielberg?\n",
    "\n",
    "Note: for some movies, the value for usa_gross_income is missing; ignore those movies. You also need to strip the \"$\" from the income values and convert them to a numeric value."
   ]
  },
  {
   "cell_type": "code",
   "execution_count": 12,
   "metadata": {
    "nbgrader": {
     "grade": false,
     "grade_id": "cell-a2a2b2152a1c59e1",
     "locked": false,
     "schema_version": 1,
     "solution": true
    }
   },
   "outputs": [
    {
     "name": "stdout",
     "output_type": "stream",
     "text": [
      "145492065.6451613\n"
     ]
    },
    {
     "name": "stderr",
     "output_type": "stream",
     "text": [
      "/var/folders/qb/8nxjvttd6s3f8q6hzlyxwb_00000gn/T/ipykernel_14020/2379506135.py:5: FutureWarning: The default value of regex will change from True to False in a future version. In addition, single character regular expressions will *not* be treated as literal strings when regex=True.\n",
      "  spielberg_movies['usa_gross_income'] = spielberg_movies['usa_gross_income'].str.replace('$', '').astype(int)\n"
     ]
    }
   ],
   "source": [
    "spielberg_movies = df[df['director'] == 'Steven Spielberg']\n",
    "\n",
    "spielberg_movies = spielberg_movies.dropna(subset=['usa_gross_income'])\n",
    "\n",
    "spielberg_movies['usa_gross_income'] = spielberg_movies['usa_gross_income'].str.replace('$', '').astype(int)\n",
    "\n",
    "average_income = spielberg_movies['usa_gross_income'].mean()\n",
    "\n",
    "print(average_income)\n"
   ]
  },
  {
   "cell_type": "markdown",
   "metadata": {},
   "source": [
    "6. Consider movies with a metascore of 90 or higher (universal acclam). Which year has the highest number of such movies? You could do this with groupby. You can count unique movies using the `imdb_title_id` column."
   ]
  },
  {
   "cell_type": "code",
   "execution_count": 13,
   "metadata": {},
   "outputs": [
    {
     "ename": "NameError",
     "evalue": "name 'years' is not defined",
     "output_type": "error",
     "traceback": [
      "\u001b[0;31m---------------------------------------------------------------------------\u001b[0m",
      "\u001b[0;31mNameError\u001b[0m                                 Traceback (most recent call last)",
      "Cell \u001b[0;32mIn[13], line 3\u001b[0m\n\u001b[1;32m      1\u001b[0m numacclaimed \u001b[38;5;241m=\u001b[39m df[df[\u001b[38;5;124m'\u001b[39m\u001b[38;5;124mmetascore\u001b[39m\u001b[38;5;124m'\u001b[39m] \u001b[38;5;241m>\u001b[39m\u001b[38;5;241m=\u001b[39m \u001b[38;5;241m90\u001b[39m]\n\u001b[1;32m      2\u001b[0m best_year \u001b[38;5;241m=\u001b[39m numacclaimed[\u001b[38;5;124m'\u001b[39m\u001b[38;5;124myear\u001b[39m\u001b[38;5;124m'\u001b[39m]\u001b[38;5;241m.\u001b[39mmode()\n\u001b[0;32m----> 3\u001b[0m \u001b[38;5;28mprint\u001b[39m(years)\n",
      "\u001b[0;31mNameError\u001b[0m: name 'years' is not defined"
     ]
    }
   ],
   "source": [
    "numacclaimed = df[df['metascore'] >= 90]\n",
    "best_year = numacclaimed['year'].mode()\n",
    "print(years)\n"
   ]
  },
  {
   "cell_type": "markdown",
   "metadata": {},
   "source": [
    "7a. Make a scatter plot of the median of the duration of movies in each year."
   ]
  },
  {
   "cell_type": "code",
   "execution_count": 18,
   "metadata": {},
   "outputs": [
    {
     "data": {
      "text/plain": [
       "<Axes: xlabel='year', ylabel='duration'>"
      ]
     },
     "execution_count": 18,
     "metadata": {},
     "output_type": "execute_result"
    },
    {
     "data": {
      "image/png": "[encoded data removed]",
      "text/plain": [
       "<Figure size 640x480 with 1 Axes>"
      ]
     },
     "metadata": {},
     "output_type": "display_data"
    }
   ],
   "source": [
    "median_durations_by_year = df.groupby('year')['duration'].median().reset_index()\n",
    "\n",
    "sns.scatterplot(data=median_durations_by_year, x='year', y='duration')\n"
   ]
  },
  {
   "cell_type": "markdown",
   "metadata": {},
   "source": [
    "7b. Make a similar plot with the minimum duration instead of the mean."
   ]
  },
  {
   "cell_type": "code",
   "execution_count": 17,
   "metadata": {},
   "outputs": [
    {
     "data": {
      "text/plain": [
       "<Axes: xlabel='year', ylabel='duration'>"
      ]
     },
     "execution_count": 17,
     "metadata": {},
     "output_type": "execute_result"
    },
    {
     "data": {
      "image/png": "[encoded data removed]",
      "text/plain": [
       "<Figure size 640x480 with 1 Axes>"
      ]
     },
     "metadata": {},
     "output_type": "display_data"
    }
   ],
   "source": [
    "median_durations_by_year = df.groupby('year')['duration'].min().reset_index()\n",
    "\n",
    "sns.scatterplot(data=median_durations_by_year, x='year', y='duration')\n"
   ]
  },
  {
   "cell_type": "markdown",
   "metadata": {
    "nbgrader": {
     "grade": false,
     "grade_id": "cell-8502d2b8d6b61cd0",
     "locked": true,
     "schema_version": 1,
     "solution": false
    }
   },
   "source": [
    "8a. Is there a relationship between year and the [metascore](https://en.wikipedia.org/wiki/Metacritic#Metascores)? Make a scatter plot with year on the x-axis and metascore on the y-axis. Write down in a comment whether you think there could be a meaningful relationship based on what you see and background information on [Wikipedia](https://en.wikipedia.org/wiki/Metacritic#Metascores)."
   ]
  },
  {
   "cell_type": "code",
   "execution_count": 16,
   "metadata": {
    "nbgrader": {
     "grade": true,
     "grade_id": "cell-1c0ebdbd6021bfa1",
     "locked": false,
     "points": 1,
     "schema_version": 1,
     "solution": true
    }
   },
   "outputs": [
    {
     "data": {
      "text/plain": [
       "<Axes: xlabel='year', ylabel='metascore'>"
      ]
     },
     "execution_count": 16,
     "metadata": {},
     "output_type": "execute_result"
    },
    {
     "data": {
      "image/png": "[encoded data removed]",
      "text/plain": [
       "<Figure size 640x480 with 1 Axes>"
      ]
     },
     "metadata": {},
     "output_type": "display_data"
    }
   ],
   "source": [
    "mean_metascore_by_year = df.groupby('year')['metascore'].mean().reset_index()\n",
    "\n",
    "sns.scatterplot(data=mean_metascore_by_year, x='year', y='metascore')\n",
    "# There is definitely a correlation, because we can clearly see the metascore going\n",
    "# down on average as time progresses. This can be due to lower quality movies or maybe\n",
    "# a higher standard or more "
   ]
  },
  {
   "cell_type": "markdown",
   "metadata": {},
   "source": [
    "8b. What is the correlation coefficient?"
   ]
  },
  {
   "cell_type": "code",
   "execution_count": null,
   "metadata": {
    "nbgrader": {
     "grade": false,
     "grade_id": "cell-d3f38a6e5fac087c",
     "locked": false,
     "schema_version": 1,
     "solution": true
    }
   },
   "outputs": [],
   "source": [
    "mean_metascore_by_year = df.groupby('year')['metascore'].mean().reset_index()\n",
    "corr = mean_metascore_by_year.corr()\n",
    "print(corr)\n"
   ]
  },
  {
   "cell_type": "markdown",
   "metadata": {
    "nbgrader": {
     "grade": false,
     "grade_id": "cell-8a0eaaa740763098",
     "locked": true,
     "schema_version": 1,
     "solution": false
    }
   },
   "source": [
    "9. Think of an interesting question involving two or more variables and answer it with a table or plot."
   ]
  },
  {
   "cell_type": "code",
   "execution_count": 15,
   "metadata": {
    "nbgrader": {
     "grade": true,
     "grade_id": "cell-fb60cc9d9cd29f24",
     "locked": false,
     "points": 2,
     "schema_version": 1,
     "solution": true
    }
   },
   "outputs": [
    {
     "data": {
      "image/png": "[encoded data removed]",
      "text/plain": [
       "<Figure size 1000x600 with 1 Axes>"
      ]
     },
     "metadata": {},
     "output_type": "display_data"
    }
   ],
   "source": [
    "df['year'] = pd.to_numeric(df['year'], errors='coerce')\n",
    "\n",
    "df['worlwide_gross_income'] = pd.to_numeric(df['worlwide_gross_income'].astype(str).str.replace('[\\$,]', '', regex=True), errors='coerce')\n",
    "\n",
    "df_cleaned = df.dropna(subset=['year', 'worlwide_gross_income'])\n",
    "\n",
    "mean_gross_by_year = df_cleaned.groupby('year')['worlwide_gross_income'].mean().reset_index()\n",
    "\n",
    "plt.figure(figsize=(10, 6))  # Optional: Setting the figure size\n",
    "sns.regplot(x='year', y='worlwide_gross_income', data=mean_gross_by_year, scatter_kws={'s':50}, color='b', marker='o')\n",
    "plt.show()\n"
   ]
  },
  {
   "cell_type": "code",
   "execution_count": null,
   "metadata": {
    "nbgrader": {
     "grade": true,
     "grade_id": "cell-5eae25c86eb2cd46",
     "locked": false,
     "points": 0,
     "schema_version": 1,
     "solution": true
    }
   },
   "outputs": [],
   "source": []
  },
  {
   "cell_type": "code",
   "execution_count": null,
   "metadata": {
    "nbgrader": {
     "grade": true,
     "grade_id": "cell-30d085f54ebfd149",
     "locked": false,
     "points": 0,
     "schema_version": 1,
     "solution": true
    }
   },
   "outputs": [],
   "source": []
  },
  {
   "cell_type": "code",
   "execution_count": null,
   "metadata": {
    "nbgrader": {
     "grade": true,
     "grade_id": "cell-aef8089a88864f56",
     "locked": false,
     "points": 0,
     "schema_version": 1,
     "solution": true
    },
    "scrolled": true
   },
   "outputs": [],
   "source": []
  }
 ],
 "metadata": {
  "kernelspec": {
   "display_name": "Python 3 (ipykernel)",
   "language": "python",
   "name": "python3"
  },
  "language_info": {
   "codemirror_mode": {
    "name": "ipython",
    "version": 3
   },
   "file_extension": ".py",
   "mimetype": "text/x-python",
   "name": "python",
   "nbconvert_exporter": "python",
   "pygments_lexer": "ipython3",
   "version": "3.11.4"
  }
 },
 "nbformat": 4,
 "nbformat_minor": 4
}
